{
 "cells": [
  {
   "cell_type": "code",
   "execution_count": 30,
   "metadata": {},
   "outputs": [],
   "source": [
    "import pandas as pd\n",
    "import numpy as np\n",
    "from matplotlib import pyplot as plt\n",
    "from sklearn.linear_model import LinearRegression\n",
    "from sklearn.neighbors import KNeighborsRegressor\n",
    "from sklearn.feature_extraction.text import CountVectorizer\n",
    "from sklearn.naive_bayes import MultinomialNB\n",
    "from sklearn.model_selection import train_test_split\n",
    "from sklearn.linear_model import LinearRegression"
   ]
  },
  {
   "cell_type": "code",
   "execution_count": 31,
   "metadata": {},
   "outputs": [
    {
     "data": {
      "text/plain": [
       "0                 transportation\n",
       "1           hospitality / travel\n",
       "2                            NaN\n",
       "3                        student\n",
       "4    artistic / musical / writer\n",
       "Name: job, dtype: object"
      ]
     },
     "execution_count": 31,
     "metadata": {},
     "output_type": "execute_result"
    }
   ],
   "source": [
    "df = pd.read_csv(\"profiles.csv\")\n",
    "df.job.head()"
   ]
  },
  {
   "cell_type": "code",
   "execution_count": 38,
   "metadata": {
    "scrolled": true
   },
   "outputs": [
    {
     "data": {
      "image/png": "[encoded data removed]",
      "text/plain": [
       "<Figure size 432x288 with 1 Axes>"
      ]
     },
     "metadata": {
      "needs_background": "light"
     },
     "output_type": "display_data"
    }
   ],
   "source": [
    "plt.hist(df.age, bins=20)\n",
    "plt.xlabel(\"Age\")\n",
    "plt.ylabel(\"Frequency\")\n",
    "plt.xlim(16, 80)\n",
    "plt.show()"
   ]
  },
  {
   "cell_type": "code",
   "execution_count": 39,
   "metadata": {},
   "outputs": [
    {
     "ename": "ValueError",
     "evalue": "Input contains NaN, infinity or a value too large for dtype('float64').",
     "output_type": "error",
     "traceback": [
      "\u001b[0;31m---------------------------------------------------------------------------\u001b[0m",
      "\u001b[0;31mValueError\u001b[0m                                Traceback (most recent call last)",
      "\u001b[0;32m<ipython-input-39-302ccb74715b>\u001b[0m in \u001b[0;36m<module>\u001b[0;34m()\u001b[0m\n\u001b[1;32m      1\u001b[0m \u001b[0mregressor\u001b[0m \u001b[0;34m=\u001b[0m \u001b[0mKNeighborsRegressor\u001b[0m\u001b[0;34m(\u001b[0m\u001b[0mn_neighbors\u001b[0m\u001b[0;34m=\u001b[0m\u001b[0;36m5\u001b[0m\u001b[0;34m,\u001b[0m\u001b[0mweights\u001b[0m\u001b[0;34m=\u001b[0m\u001b[0;34m\"distance\"\u001b[0m\u001b[0;34m)\u001b[0m\u001b[0;34m\u001b[0m\u001b[0m\n\u001b[0;32m----> 2\u001b[0;31m \u001b[0mregressor\u001b[0m\u001b[0;34m.\u001b[0m\u001b[0mfit\u001b[0m\u001b[0;34m(\u001b[0m\u001b[0mtrain\u001b[0m\u001b[0;34m,\u001b[0m\u001b[0mdf\u001b[0m\u001b[0;34m.\u001b[0m\u001b[0mheight\u001b[0m\u001b[0;34m)\u001b[0m\u001b[0;34m\u001b[0m\u001b[0m\n\u001b[0m\u001b[1;32m      3\u001b[0m \u001b[0mprint\u001b[0m\u001b[0;34m(\u001b[0m\u001b[0mregressor\u001b[0m\u001b[0;34m.\u001b[0m\u001b[0mpredict\u001b[0m\u001b[0;34m(\u001b[0m\u001b[0;34m[\u001b[0m\u001b[0;36m25\u001b[0m\u001b[0;34m,\u001b[0m\u001b[0;36m36\u001b[0m\u001b[0;34m]\u001b[0m\u001b[0;34m)\u001b[0m\u001b[0;34m)\u001b[0m\u001b[0;34m\u001b[0m\u001b[0m\n",
      "\u001b[0;32m~/anaconda3/lib/python3.7/site-packages/sklearn/neighbors/base.py\u001b[0m in \u001b[0;36mfit\u001b[0;34m(self, X, y)\u001b[0m\n\u001b[1;32m    743\u001b[0m         \"\"\"\n\u001b[1;32m    744\u001b[0m         \u001b[0;32mif\u001b[0m \u001b[0;32mnot\u001b[0m \u001b[0misinstance\u001b[0m\u001b[0;34m(\u001b[0m\u001b[0mX\u001b[0m\u001b[0;34m,\u001b[0m \u001b[0;34m(\u001b[0m\u001b[0mKDTree\u001b[0m\u001b[0;34m,\u001b[0m \u001b[0mBallTree\u001b[0m\u001b[0;34m)\u001b[0m\u001b[0;34m)\u001b[0m\u001b[0;34m:\u001b[0m\u001b[0;34m\u001b[0m\u001b[0m\n\u001b[0;32m--> 745\u001b[0;31m             \u001b[0mX\u001b[0m\u001b[0;34m,\u001b[0m \u001b[0my\u001b[0m \u001b[0;34m=\u001b[0m \u001b[0mcheck_X_y\u001b[0m\u001b[0;34m(\u001b[0m\u001b[0mX\u001b[0m\u001b[0;34m,\u001b[0m \u001b[0my\u001b[0m\u001b[0;34m,\u001b[0m \u001b[0;34m\"csr\"\u001b[0m\u001b[0;34m,\u001b[0m \u001b[0mmulti_output\u001b[0m\u001b[0;34m=\u001b[0m\u001b[0;32mTrue\u001b[0m\u001b[0;34m)\u001b[0m\u001b[0;34m\u001b[0m\u001b[0m\n\u001b[0m\u001b[1;32m    746\u001b[0m         \u001b[0mself\u001b[0m\u001b[0;34m.\u001b[0m\u001b[0m_y\u001b[0m \u001b[0;34m=\u001b[0m \u001b[0my\u001b[0m\u001b[0;34m\u001b[0m\u001b[0m\n\u001b[1;32m    747\u001b[0m         \u001b[0;32mreturn\u001b[0m \u001b[0mself\u001b[0m\u001b[0;34m.\u001b[0m\u001b[0m_fit\u001b[0m\u001b[0;34m(\u001b[0m\u001b[0mX\u001b[0m\u001b[0;34m)\u001b[0m\u001b[0;34m\u001b[0m\u001b[0m\n",
      "\u001b[0;32m~/anaconda3/lib/python3.7/site-packages/sklearn/utils/validation.py\u001b[0m in \u001b[0;36mcheck_X_y\u001b[0;34m(X, y, accept_sparse, dtype, order, copy, force_all_finite, ensure_2d, allow_nd, multi_output, ensure_min_samples, ensure_min_features, y_numeric, warn_on_dtype, estimator)\u001b[0m\n\u001b[1;32m    574\u001b[0m     \u001b[0;32mif\u001b[0m \u001b[0mmulti_output\u001b[0m\u001b[0;34m:\u001b[0m\u001b[0;34m\u001b[0m\u001b[0m\n\u001b[1;32m    575\u001b[0m         y = check_array(y, 'csr', force_all_finite=True, ensure_2d=False,\n\u001b[0;32m--> 576\u001b[0;31m                         dtype=None)\n\u001b[0m\u001b[1;32m    577\u001b[0m     \u001b[0;32melse\u001b[0m\u001b[0;34m:\u001b[0m\u001b[0;34m\u001b[0m\u001b[0m\n\u001b[1;32m    578\u001b[0m         \u001b[0my\u001b[0m \u001b[0;34m=\u001b[0m \u001b[0mcolumn_or_1d\u001b[0m\u001b[0;34m(\u001b[0m\u001b[0my\u001b[0m\u001b[0;34m,\u001b[0m \u001b[0mwarn\u001b[0m\u001b[0;34m=\u001b[0m\u001b[0;32mTrue\u001b[0m\u001b[0;34m)\u001b[0m\u001b[0;34m\u001b[0m\u001b[0m\n",
      "\u001b[0;32m~/anaconda3/lib/python3.7/site-packages/sklearn/utils/validation.py\u001b[0m in \u001b[0;36mcheck_array\u001b[0;34m(array, accept_sparse, dtype, order, copy, force_all_finite, ensure_2d, allow_nd, ensure_min_samples, ensure_min_features, warn_on_dtype, estimator)\u001b[0m\n\u001b[1;32m    451\u001b[0m                              % (array.ndim, estimator_name))\n\u001b[1;32m    452\u001b[0m         \u001b[0;32mif\u001b[0m \u001b[0mforce_all_finite\u001b[0m\u001b[0;34m:\u001b[0m\u001b[0;34m\u001b[0m\u001b[0m\n\u001b[0;32m--> 453\u001b[0;31m             \u001b[0m_assert_all_finite\u001b[0m\u001b[0;34m(\u001b[0m\u001b[0marray\u001b[0m\u001b[0;34m)\u001b[0m\u001b[0;34m\u001b[0m\u001b[0m\n\u001b[0m\u001b[1;32m    454\u001b[0m \u001b[0;34m\u001b[0m\u001b[0m\n\u001b[1;32m    455\u001b[0m     \u001b[0mshape_repr\u001b[0m \u001b[0;34m=\u001b[0m \u001b[0m_shape_repr\u001b[0m\u001b[0;34m(\u001b[0m\u001b[0marray\u001b[0m\u001b[0;34m.\u001b[0m\u001b[0mshape\u001b[0m\u001b[0;34m)\u001b[0m\u001b[0;34m\u001b[0m\u001b[0m\n",
      "\u001b[0;32m~/anaconda3/lib/python3.7/site-packages/sklearn/utils/validation.py\u001b[0m in \u001b[0;36m_assert_all_finite\u001b[0;34m(X)\u001b[0m\n\u001b[1;32m     42\u001b[0m             and not np.isfinite(X).all()):\n\u001b[1;32m     43\u001b[0m         raise ValueError(\"Input contains NaN, infinity\"\n\u001b[0;32m---> 44\u001b[0;31m                          \" or a value too large for %r.\" % X.dtype)\n\u001b[0m\u001b[1;32m     45\u001b[0m \u001b[0;34m\u001b[0m\u001b[0m\n\u001b[1;32m     46\u001b[0m \u001b[0;34m\u001b[0m\u001b[0m\n",
      "\u001b[0;31mValueError\u001b[0m: Input contains NaN, infinity or a value too large for dtype('float64')."
     ]
    }
   ],
   "source": [
    "regressor = KNeighborsRegressor(n_neighbors=5,weights=\"distance\")\n",
    "regressor.fit(train,df.height)\n",
    "print(regressor.predict([25,36]))"
   ]
  },
  {
   "cell_type": "code",
   "execution_count": 19,
   "metadata": {},
   "outputs": [
    {
     "data": {
      "text/plain": [
       "gemini and it&rsquo;s fun to think about         1782\n",
       "scorpio and it&rsquo;s fun to think about        1772\n",
       "leo and it&rsquo;s fun to think about            1692\n",
       "libra and it&rsquo;s fun to think about          1649\n",
       "taurus and it&rsquo;s fun to think about         1640\n",
       "cancer and it&rsquo;s fun to think about         1597\n",
       "pisces and it&rsquo;s fun to think about         1592\n",
       "sagittarius and it&rsquo;s fun to think about    1583\n",
       "virgo and it&rsquo;s fun to think about          1574\n",
       "aries and it&rsquo;s fun to think about          1573\n",
       "aquarius and it&rsquo;s fun to think about       1503\n",
       "virgo but it doesn&rsquo;t matter                1497\n",
       "leo but it doesn&rsquo;t matter                  1457\n",
       "cancer but it doesn&rsquo;t matter               1454\n",
       "gemini but it doesn&rsquo;t matter               1453\n",
       "taurus but it doesn&rsquo;t matter               1450\n",
       "libra but it doesn&rsquo;t matter                1408\n",
       "aquarius but it doesn&rsquo;t matter             1408\n",
       "capricorn and it&rsquo;s fun to think about      1376\n",
       "sagittarius but it doesn&rsquo;t matter          1375\n",
       "aries but it doesn&rsquo;t matter                1373\n",
       "capricorn but it doesn&rsquo;t matter            1319\n",
       "pisces but it doesn&rsquo;t matter               1300\n",
       "scorpio but it doesn&rsquo;t matter              1264\n",
       "leo                                              1159\n",
       "libra                                            1098\n",
       "cancer                                           1092\n",
       "virgo                                            1029\n",
       "scorpio                                          1020\n",
       "gemini                                           1013\n",
       "taurus                                           1001\n",
       "aries                                             996\n",
       "pisces                                            992\n",
       "aquarius                                          954\n",
       "sagittarius                                       937\n",
       "capricorn                                         833\n",
       "scorpio and it matters a lot                       78\n",
       "leo and it matters a lot                           66\n",
       "cancer and it matters a lot                        63\n",
       "aquarius and it matters a lot                      63\n",
       "gemini and it matters a lot                        62\n",
       "pisces and it matters a lot                        62\n",
       "libra and it matters a lot                         52\n",
       "taurus and it matters a lot                        49\n",
       "sagittarius and it matters a lot                   47\n",
       "aries and it matters a lot                         47\n",
       "capricorn and it matters a lot                     45\n",
       "virgo and it matters a lot                         41\n",
       "Name: sign, dtype: int64"
      ]
     },
     "execution_count": 19,
     "metadata": {},
     "output_type": "execute_result"
    }
   ],
   "source": [
    "df.sign.value_counts()"
   ]
  },
  {
   "cell_type": "code",
   "execution_count": 20,
   "metadata": {},
   "outputs": [
    {
     "data": {
      "image/png": "[encoded data removed]",
      "text/plain": [
       "<Figure size 432x288 with 1 Axes>"
      ]
     },
     "metadata": {
      "needs_background": "light"
     },
     "output_type": "display_data"
    }
   ],
   "source": [
    "plt.scatter(df.age, df.income)\n",
    "plt.xlabel(\"Age\")\n",
    "plt.ylabel(\"Income USD\")\n",
    "plt.show()"
   ]
  },
  {
   "cell_type": "code",
   "execution_count": 21,
   "metadata": {},
   "outputs": [
    {
     "data": {
      "text/plain": [
       "average           14652\n",
       "fit               12711\n",
       "athletic          11819\n",
       "thin               4711\n",
       "curvy              3924\n",
       "a little extra     2629\n",
       "skinny             1777\n",
       "full figured       1009\n",
       "overweight          444\n",
       "jacked              421\n",
       "used up             355\n",
       "rather not say      198\n",
       "Name: body_type, dtype: int64"
      ]
     },
     "execution_count": 21,
     "metadata": {},
     "output_type": "execute_result"
    }
   ],
   "source": [
    "df.body_type.value_counts()"
   ]
  },
  {
   "cell_type": "code",
   "execution_count": 40,
   "metadata": {},
   "outputs": [],
   "source": [
    "religion_mapping = {\"agnosticism\":0,\"other\":1,\"agnosticism but not too serious about it\":2,\"agnosticism and laughing about it\":3,\n",
    "\"catholicism but not too serious about it\":4,\"atheism\":5,\"other and laughing about it\":6,\"atheism and laughing about it\":7,\n",
    "\"christianity\":8,\"christianity but not too serious about it\":9,\n",
    "\"other but not too serious about it\":10,\n",
    "\"judaism but not too serious about it\":11,\n",
    "\"atheism but not too serious about it\":12,\n",
    "\"catholicism\":13,\n",
    "\"christianity and somewhat serious about it\":14,\n",
    "\"atheism and somewhat serious about it\":15,\n",
    "\"other and somewhat serious about it\":16,\n",
    "\"catholicism and laughing about it\":17,\n",
    "\"judaism and laughing about it\":18,\n",
    "\"buddhism but not too serious about it\":19,\n",
    "\"agnosticism and somewhat serious about it\":20,\n",
    "\"judasim\":21,\n",
    "\"christianity and very serious about it\":22,\n",
    "\"atheism and very serious about it\":23,\n",
    "\"catholicism and somewhat serious about it\":24,\n",
    "\"other and very serious about it\":25,\n",
    "\"buddhism and laughing about it\":26,\n",
    "\"buddhism\":27,\"christianity and laughing about it\":28,\n",
    "\"buddhism and somewhat serious about it\":29,\n",
    "\"agnosticism and very serious about it\":30,\n",
    "\"judaism and somewhat serious about it\":31,\n",
    "\"hinduism but not too serious about it\":32,\n",
    "\"hinduism\":33,\"catholicism and very serious about it\":34,\n",
    "\"buddhism and very serious about it\":35,\n",
    "\"hinduism and somewhat serious about it\":36,\n",
    "\"islam\":37,\"hinduism and laughing about it\":38,\n",
    "\"islam but not too serious about it\":39,\n",
    "\"islam and somewhat serious about it\":40,\n",
    "\"judaism and very serious about it\":41,\n",
    "\"islam and laughing about it\":42,\n",
    "\"hinduism and very serious about it\":43,\n",
    "\"islam and very serious about it\":44,}\n",
    "df[\"religion_code\"] = df.religion.map(religion_mapping)"
   ]
  },
  {
   "cell_type": "code",
   "execution_count": 22,
   "metadata": {},
   "outputs": [
    {
     "data": {
      "image/png": "[encoded data removed]",
      "text/plain": [
       "<Figure size 432x288 with 1 Axes>"
      ]
     },
     "metadata": {
      "needs_background": "light"
     },
     "output_type": "display_data"
    }
   ],
   "source": [
    "plt.scatter(df.age, df.height)\n",
    "plt.xlabel(\"Age\")\n",
    "plt.ylabel(\"Height\")\n",
    "plt.show()"
   ]
  },
  {
   "cell_type": "code",
   "execution_count": 23,
   "metadata": {},
   "outputs": [
    {
     "data": {
      "text/plain": [
       "8.0     14652\n",
       "9.0     12711\n",
       "10.0    11819\n",
       "7.0      4711\n",
       "6.0      3924\n",
       "5.0      2629\n",
       "3.0      1777\n",
       "2.0      1009\n",
       "4.0       444\n",
       "11.0      421\n",
       "1.0       355\n",
       "0.0       198\n",
       "Name: bodytype, dtype: int64"
      ]
     },
     "execution_count": 23,
     "metadata": {},
     "output_type": "execute_result"
    }
   ],
   "source": [
    "body_mapping = {\"jacked\" : 11, \"athletic\" : 10, \"fit\" : 9, \"average\" : 8, \"thin\" : 7, \"curvy\" : 6, \"a little extra\" : 5, \"overweight\" : 4, \"skinny\" : 3, \"full figured\" : 2, \"used up\" : 1, \"rather not say\" : 0}\n",
    "df['bodytype']= df['body_type'].map(body_mapping)\n",
    "df.bodytype.value_counts()"
   ]
  },
  {
   "cell_type": "code",
   "execution_count": 24,
   "metadata": {},
   "outputs": [
    {
     "data": {
      "text/plain": [
       "2.0    41780\n",
       "1.0     5957\n",
       "3.0     5164\n",
       "0.0     3267\n",
       "4.0      471\n",
       "5.0      322\n",
       "Name: drink_habit, dtype: int64"
      ]
     },
     "execution_count": 24,
     "metadata": {},
     "output_type": "execute_result"
    }
   ],
   "source": [
    "drink_mapping = {\"not at all\": 0, \"rarely\": 1, \"socially\": 2, \"often\": 3, \"very often\": 4, \"desperately\": 5}\n",
    "df['drink_habit']= df['drinks'].map(drink_mapping)\n",
    "df.drink_habit.value_counts()"
   ]
  },
  {
   "cell_type": "code",
   "execution_count": 25,
   "metadata": {},
   "outputs": [
    {
     "data": {
      "text/plain": [
       "never        37724\n",
       "sometimes     7732\n",
       "often          410\n",
       "Name: drugs, dtype: int64"
      ]
     },
     "execution_count": 25,
     "metadata": {},
     "output_type": "execute_result"
    }
   ],
   "source": [
    "df.drugs.value_counts()"
   ]
  },
  {
   "cell_type": "code",
   "execution_count": 26,
   "metadata": {},
   "outputs": [
    {
     "data": {
      "text/plain": [
       "0.0    37724\n",
       "1.0     7732\n",
       "2.0      410\n",
       "Name: drug_habit, dtype: int64"
      ]
     },
     "execution_count": 26,
     "metadata": {},
     "output_type": "execute_result"
    }
   ],
   "source": [
    "drug_mapping = {\"never\": 0, \"sometimes\": 1, \"often\": 2}\n",
    "df['drug_habit']= df['drugs'].map(drug_mapping)\n",
    "df.drug_habit.value_counts()"
   ]
  },
  {
   "cell_type": "code",
   "execution_count": 27,
   "metadata": {},
   "outputs": [
    {
     "name": "stdout",
     "output_type": "stream",
     "text": [
      "17\n",
      "83\n"
     ]
    }
   ],
   "source": [
    "df = pd.DataFrame(np.random.randn(100, 2))\n",
    "msk = np.random.rand(len(df)) < 0.8\n",
    "train = df[msk]\n",
    "test = df[~msk]\n",
    "print(len(test))\n",
    "print(len(train))"
   ]
  },
  {
   "cell_type": "code",
   "execution_count": 41,
   "metadata": {},
   "outputs": [
    {
     "ename": "NameError",
     "evalue": "name 'MultinomialNB' is not defined",
     "output_type": "error",
     "traceback": [
      "\u001b[0;31m---------------------------------------------------------------------------\u001b[0m",
      "\u001b[0;31mNameError\u001b[0m                                 Traceback (most recent call last)",
      "\u001b[0;32m<ipython-input-41-60b42357d3f1>\u001b[0m in \u001b[0;36m<module>\u001b[0;34m()\u001b[0m\n\u001b[0;32m----> 1\u001b[0;31m \u001b[0mclassifier\u001b[0m \u001b[0;34m=\u001b[0m \u001b[0mMultinomialNB\u001b[0m\u001b[0;34m(\u001b[0m\u001b[0;34m)\u001b[0m\u001b[0;34m\u001b[0m\u001b[0m\n\u001b[0m\u001b[1;32m      2\u001b[0m \u001b[0;34m\u001b[0m\u001b[0m\n\u001b[1;32m      3\u001b[0m \u001b[0mtraining_labels\u001b[0m \u001b[0;34m=\u001b[0m \u001b[0;34m[\u001b[0m\u001b[0;34m]\u001b[0m\u001b[0;34m\u001b[0m\u001b[0m\n\u001b[1;32m      4\u001b[0m \u001b[0;34m\u001b[0m\u001b[0m\n\u001b[1;32m      5\u001b[0m \u001b[0;32mfor\u001b[0m \u001b[0mx\u001b[0m \u001b[0;32min\u001b[0m \u001b[0mrange\u001b[0m \u001b[0;34m(\u001b[0m\u001b[0;36m0\u001b[0m\u001b[0;34m,\u001b[0m\u001b[0;36m1000\u001b[0m\u001b[0;34m)\u001b[0m\u001b[0;34m:\u001b[0m\u001b[0;34m\u001b[0m\u001b[0m\n",
      "\u001b[0;31mNameError\u001b[0m: name 'MultinomialNB' is not defined"
     ]
    }
   ],
   "source": [
    "classifier = MultinomialNB()\n",
    "\n",
    "training_labels = []\n",
    "\n",
    "for x in range (0,1000):\n",
    "  training_labels.append(0)\n",
    "\n",
    "for x in range (0,1000):\n",
    "  training_labels.append(1)\n",
    "  \n",
    "print(len(training_labels))\n",
    "\n",
    "classifier.fit(training_counts, training_labels)\n",
    "\n",
    "prediction = classifier.predict(review_counts)\n",
    "\n",
    "print(prediction)\n",
    "\n",
    "probability = classifier.predict_proba(review_counts)\n",
    "\n",
    "print(probability)\n"
   ]
  },
  {
   "cell_type": "code",
   "execution_count": 42,
   "metadata": {},
   "outputs": [
    {
     "ename": "NameError",
     "evalue": "name 'train_test_split' is not defined",
     "output_type": "error",
     "traceback": [
      "\u001b[0;31m---------------------------------------------------------------------------\u001b[0m",
      "\u001b[0;31mNameError\u001b[0m                                 Traceback (most recent call last)",
      "\u001b[0;32m<ipython-input-42-ab1257476027>\u001b[0m in \u001b[0;36m<module>\u001b[0;34m()\u001b[0m\n\u001b[1;32m      3\u001b[0m \u001b[0mage_v_income\u001b[0m \u001b[0;34m=\u001b[0m \u001b[0mage_v_income\u001b[0m\u001b[0;34m[\u001b[0m\u001b[0;34m(\u001b[0m\u001b[0mage_v_income\u001b[0m\u001b[0;34m[\u001b[0m\u001b[0;34m[\u001b[0m\u001b[0;34m'income'\u001b[0m\u001b[0;34m]\u001b[0m\u001b[0;34m]\u001b[0m \u001b[0;34m!=\u001b[0m \u001b[0;34m-\u001b[0m\u001b[0;36m1\u001b[0m\u001b[0;34m)\u001b[0m\u001b[0;34m.\u001b[0m\u001b[0mall\u001b[0m\u001b[0;34m(\u001b[0m\u001b[0maxis\u001b[0m\u001b[0;34m=\u001b[0m\u001b[0;36m1\u001b[0m\u001b[0;34m)\u001b[0m\u001b[0;34m]\u001b[0m\u001b[0;34m\u001b[0m\u001b[0m\n\u001b[1;32m      4\u001b[0m \u001b[0;34m\u001b[0m\u001b[0m\n\u001b[0;32m----> 5\u001b[0;31m \u001b[0mtrain\u001b[0m\u001b[0;34m,\u001b[0m \u001b[0mtest\u001b[0m \u001b[0;34m=\u001b[0m \u001b[0mtrain_test_split\u001b[0m\u001b[0;34m(\u001b[0m\u001b[0mage_v_income\u001b[0m\u001b[0;34m,\u001b[0m \u001b[0mtest_size\u001b[0m \u001b[0;34m=\u001b[0m \u001b[0;36m0.2\u001b[0m\u001b[0;34m)\u001b[0m\u001b[0;34m\u001b[0m\u001b[0m\n\u001b[0m\u001b[1;32m      6\u001b[0m \u001b[0mXtr\u001b[0m \u001b[0;34m=\u001b[0m \u001b[0mtrain\u001b[0m\u001b[0;34m[\u001b[0m\u001b[0;34m[\u001b[0m\u001b[0;34m'age'\u001b[0m\u001b[0;34m]\u001b[0m\u001b[0;34m]\u001b[0m\u001b[0;34m\u001b[0m\u001b[0m\n\u001b[1;32m      7\u001b[0m \u001b[0mytr\u001b[0m \u001b[0;34m=\u001b[0m \u001b[0mtrain\u001b[0m\u001b[0;34m[\u001b[0m\u001b[0;34m[\u001b[0m\u001b[0;34m'income'\u001b[0m\u001b[0;34m]\u001b[0m\u001b[0;34m]\u001b[0m\u001b[0;34m\u001b[0m\u001b[0m\n",
      "\u001b[0;31mNameError\u001b[0m: name 'train_test_split' is not defined"
     ]
    }
   ],
   "source": [
    "age_v_income = df.loc[:,['age', 'income']]\n",
    "age_v_income.dropna(inplace=True)\n",
    "age_v_income = age_v_income[(age_v_income[['income']] != -1).all(axis=1)]\n",
    "train, test = train_test_split(age_v_income, test_size = 0.2)\n",
    "Xtr = train[['age']]\n",
    "ytr = train[['income']]\n",
    "regr = LinearRegression()\n",
    "regr.fit(Xtr,ytr)\n",
    "y_predicted = regr.predict(Xtr)\n",
    "X = test[['age']]\n",
    "y = test[['income']]\n",
    "print('Age v. Income Regression Score: ', regr.score(X,y))\n",
    "plt.xlabel('Age')\n",
    "plt.scatter(X,y,alpha=0.2)\n",
    "plt.plot(Xtr, y_predicted)\n",
    "plt.xlim(16,80)\n",
    "plt.ylim(20000,1100000)\n",
    "plt.show()"
   ]
  },
  {
   "cell_type": "code",
   "execution_count": null,
   "metadata": {},
   "outputs": [],
   "source": []
  }
 ],
 "metadata": {
  "kernelspec": {
   "display_name": "Python 3",
   "language": "python",
   "name": "python3"
  },
  "language_info": {
   "codemirror_mode": {
    "name": "ipython",
    "version": 3
   },
   "file_extension": ".py",
   "mimetype": "text/x-python",
   "name": "python",
   "nbconvert_exporter": "python",
   "pygments_lexer": "ipython3",
   "version": "3.7.0"
  }
 },
 "nbformat": 4,
 "nbformat_minor": 2
}
